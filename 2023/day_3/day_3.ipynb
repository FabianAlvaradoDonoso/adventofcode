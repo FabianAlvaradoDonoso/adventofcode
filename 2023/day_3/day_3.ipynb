{
 "cells": [
  {
   "cell_type": "code",
   "execution_count": 170,
   "metadata": {},
   "outputs": [],
   "source": [
    "import re\n",
    "from functools import reduce"
   ]
  },
  {
   "cell_type": "code",
   "execution_count": 138,
   "metadata": {},
   "outputs": [
    {
     "data": {
      "text/plain": [
       "[[2, 0, 1], [4, 1, 0], [5, 1, 1]]"
      ]
     },
     "execution_count": 138,
     "metadata": {},
     "output_type": "execute_result"
    }
   ],
   "source": [
    "def obtener_adyacentes(matriz, fila, columna, posicion=False):\n",
    "    adyacentes = []\n",
    "\n",
    "    # Obtener la forma de la matriz\n",
    "    filas, columnas = len(matriz), len(matriz[0])\n",
    "\n",
    "    # Función auxiliar para verificar los límites y agregar el elemento adyacente\n",
    "    def agregar_adyacente(f, c):\n",
    "        if 0 <= f < filas and 0 <= c < columnas:\n",
    "            if posicion:\n",
    "                adyacentes.append([matriz[f][c], f, c])\n",
    "            else:\n",
    "                adyacentes.append(matriz[f][c])\n",
    "\n",
    "    # Obtener elementos adyacentes y en las diagonales\n",
    "    agregar_adyacente(fila - 1, columna - 1)  # Superior izquierda\n",
    "    agregar_adyacente(fila - 1, columna)  # Superior\n",
    "    agregar_adyacente(fila - 1, columna + 1)  # Superior derecha\n",
    "    agregar_adyacente(fila, columna - 1)  # Izquierda\n",
    "    agregar_adyacente(fila, columna + 1)  # Derecha\n",
    "    agregar_adyacente(fila + 1, columna - 1)  # Inferior izquierda\n",
    "    agregar_adyacente(fila + 1, columna)  # Inferior\n",
    "    agregar_adyacente(fila + 1, columna + 1)  # Inferior derecha\n",
    "\n",
    "    return adyacentes\n",
    "\n",
    "obtener_adyacentes([[1, 2, 3], [4, 5, 6], [7, 8, 9]], 0, 0, posicion=True)"
   ]
  },
  {
   "cell_type": "code",
   "execution_count": 156,
   "metadata": {},
   "outputs": [],
   "source": [
    "def delete_item_from_list(caracter, list, position=False):\n",
    "    if position:\n",
    "        return [item for item in list if item[0] != caracter]\n",
    "    else:\n",
    "        return [item for item in list if item != caracter]"
   ]
  },
  {
   "cell_type": "code",
   "execution_count": 192,
   "metadata": {},
   "outputs": [],
   "source": [
    "def delete_item_number_from_list(list):\n",
    "    return [item for item in list if not re.search(r'\\d', item)]"
   ]
  },
  {
   "cell_type": "code",
   "execution_count": 127,
   "metadata": {},
   "outputs": [],
   "source": [
    "def encontrar_numero(lista, posicion):\n",
    "    # Verificar si la posición está dentro de los límites de la lista\n",
    "    if 0 <= posicion < len(lista) and lista[posicion].isdigit():\n",
    "        # Buscar hacia la izquierda desde la posición dada\n",
    "        inicio = posicion\n",
    "        while inicio >= 0 and lista[inicio].isdigit():\n",
    "            inicio -= 1\n",
    "\n",
    "        # Buscar hacia la derecha desde la posición dada\n",
    "        fin = posicion\n",
    "        while fin < len(lista) and lista[fin].isdigit():\n",
    "            fin += 1\n",
    "\n",
    "        # Devolver el número encontrado\n",
    "        numero_completo = lista[inicio + 1:fin]\n",
    "        return numero_completo\n",
    "\n",
    "    # Si la posición está fuera de los límites o no es un dígito, devolver None\n",
    "    return None\n"
   ]
  },
  {
   "cell_type": "code",
   "execution_count": 193,
   "metadata": {},
   "outputs": [],
   "source": [
    "def multiplicar_lista(lista):\n",
    "    resultado = reduce(lambda x, y: x * y, lista)\n",
    "    return resultado"
   ]
  },
  {
   "cell_type": "code",
   "execution_count": 195,
   "metadata": {},
   "outputs": [
    {
     "name": "stdout",
     "output_type": "stream",
     "text": [
      "Result: 529618\n"
     ]
    }
   ],
   "source": [
    "# ---- PART ONE ---- #\n",
    "\n",
    "with open('input_3.txt') as f:\n",
    "    content = f.readlines()\n",
    "\n",
    "# regex = r'\\d+|\\D'\n",
    "regex = r'.'\n",
    "\n",
    "# separa cada caracter excepto los numeros y los une en una matriz\n",
    "matriz = [list(filter(lambda x: x.strip() != '', re.findall(regex, cadena))) for cadena in content]\n",
    "\n",
    "\n",
    "numeros_por_sumar = []\n",
    "for i in range(len(matriz)):\n",
    "    for j in range(len(matriz[i])):\n",
    "        adyacentes = None\n",
    "\n",
    "        if matriz[i][j].isdigit():\n",
    "            adyacentes = obtener_adyacentes(matriz, i, j)\n",
    "            adyacentes = delete_item_from_list('.', adyacentes)\n",
    "            adyacentes = delete_item_number_from_list(adyacentes)\n",
    "\n",
    "        if adyacentes:\n",
    "            numero_completo = encontrar_numero(matriz[i], j)\n",
    "            numero_completo = int(''.join(numero_completo))\n",
    "            \n",
    "            # si el ultimo numero de numeros_por_sumar es distinto al numero_completo, agregar el numero_completo a la lista\n",
    "            if not numeros_por_sumar:\n",
    "                numeros_por_sumar.append(numero_completo)\n",
    "\n",
    "            if numeros_por_sumar and numeros_por_sumar[-1] != numero_completo:\n",
    "                numeros_por_sumar.append(numero_completo)\n",
    "\n",
    "print('Result:', sum(numeros_por_sumar))"
   ]
  },
  {
   "cell_type": "code",
   "execution_count": 196,
   "metadata": {},
   "outputs": [
    {
     "name": "stdout",
     "output_type": "stream",
     "text": [
      "Result: 77509019\n"
     ]
    }
   ],
   "source": [
    "# ---- PART TWO ---- #\n",
    "\n",
    "with open('input_3.txt') as f:\n",
    "    content = f.readlines()\n",
    "\n",
    "regex = r'.'\n",
    "\n",
    "# separa cada caracter excepto los numeros y los une en una matriz\n",
    "matriz = [list(filter(lambda x: x.strip() != '', re.findall(regex, cadena))) for cadena in content]\n",
    "\n",
    "numeros_por_sumar = []\n",
    "for i in range(len(matriz)):\n",
    "    for j in range(len(matriz[i])):\n",
    "        numeros_por_multiplicar = []\n",
    "        adyacentes = None\n",
    "\n",
    "        if matriz[i][j] == '*':\n",
    "            adyacentes = obtener_adyacentes(matriz, i, j, posicion=True)\n",
    "            adyacentes = delete_item_from_list('.', adyacentes, position=True)\n",
    "\n",
    "\n",
    "        if adyacentes:\n",
    "            for item in adyacentes:\n",
    "                numero_completo = encontrar_numero(matriz[item[1]], item[2])\n",
    "                numero_completo = int(''.join(numero_completo))\n",
    "            \n",
    "                if not numeros_por_multiplicar:\n",
    "                    numeros_por_multiplicar.append(numero_completo)\n",
    "\n",
    "                if numeros_por_multiplicar and numeros_por_multiplicar[-1] != numero_completo:\n",
    "                    numeros_por_multiplicar.append(numero_completo)\n",
    "\n",
    "        if numeros_por_multiplicar:\n",
    "            if len(numeros_por_multiplicar) > 1:\n",
    "                gear_ratio = multiplicar_lista(numeros_por_multiplicar)\n",
    "                numeros_por_sumar.append(gear_ratio)\n",
    "            \n",
    "print('Result:', sum(numeros_por_sumar))"
   ]
  }
 ],
 "metadata": {
  "kernelspec": {
   "display_name": "venv",
   "language": "python",
   "name": "python3"
  },
  "language_info": {
   "codemirror_mode": {
    "name": "ipython",
    "version": 3
   },
   "file_extension": ".py",
   "mimetype": "text/x-python",
   "name": "python",
   "nbconvert_exporter": "python",
   "pygments_lexer": "ipython3",
   "version": "3.10.8"
  }
 },
 "nbformat": 4,
 "nbformat_minor": 2
}
