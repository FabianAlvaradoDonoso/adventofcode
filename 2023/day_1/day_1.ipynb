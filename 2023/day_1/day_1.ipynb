{
 "cells": [
  {
   "cell_type": "code",
   "execution_count": 1,
   "metadata": {},
   "outputs": [],
   "source": [
    "import re"
   ]
  },
  {
   "cell_type": "code",
   "execution_count": 11,
   "metadata": {},
   "outputs": [
    {
     "name": "stdout",
     "output_type": "stream",
     "text": [
      "Result: 55834\n"
     ]
    }
   ],
   "source": [
    "# ---- PART ONE ---- #\n",
    "\n",
    "with open('input_1.txt') as f:\n",
    "    content = f.readlines()\n",
    "content = [x.strip() for x in content]\n",
    "\n",
    "word_number = {\n",
    "    'one': 'on1ne',\n",
    "    'two': 'tw2wo',\n",
    "    'three': 'thr3ree',\n",
    "    'four': 'fou4our',\n",
    "    'five': 'fiv5ive',\n",
    "    'six': 'si6ix',\n",
    "    'seven': 'sev7ven',\n",
    "    'eight': 'eig8ght',\n",
    "    'nine': 'nin9ine'\n",
    "}\n",
    "\n",
    "def transform(text, part):\n",
    "    if part == 2:\n",
    "        for word, number in word_number.items():\n",
    "            text = text.replace(word, number)\n",
    "    numbers = re.findall(r'\\d+', text)\n",
    "    return int(numbers[0][0] + numbers[-1][-1])\n",
    "\n",
    "suma = sum([transform(text, part=1) for text in content])\n",
    "\n",
    "print('Result:', suma)"
   ]
  },
  {
   "cell_type": "code",
   "execution_count": 10,
   "metadata": {},
   "outputs": [
    {
     "name": "stdout",
     "output_type": "stream",
     "text": [
      "Result: 53221\n"
     ]
    }
   ],
   "source": [
    "# ---- PART TWO ---- #\n",
    "\n",
    "with open('input_1.txt') as f:\n",
    "    content = f.readlines()\n",
    "content = [x.strip() for x in content]\n",
    "\n",
    "word_number = {\n",
    "    'one': 'on1ne',\n",
    "    'two': 'tw2wo',\n",
    "    'three': 'thr3ree',\n",
    "    'four': 'fou4our',\n",
    "    'five': 'fiv5ive',\n",
    "    'six': 'si6ix',\n",
    "    'seven': 'sev7ven',\n",
    "    'eight': 'eig8ght',\n",
    "    'nine': 'nin9ine'\n",
    "}\n",
    "\n",
    "def transform(text, part):\n",
    "    if part == 2:\n",
    "        for word, number in word_number.items():\n",
    "            text = text.replace(word, number)\n",
    "    numbers = re.findall(r'\\d+', text)\n",
    "    return int(numbers[0][0] + numbers[-1][-1])\n",
    "\n",
    "suma = sum([transform(text, part=2) for text in content])\n",
    "\n",
    "print('Result:', suma)"
   ]
  }
 ],
 "metadata": {
  "kernelspec": {
   "display_name": "venv",
   "language": "python",
   "name": "python3"
  },
  "language_info": {
   "codemirror_mode": {
    "name": "ipython",
    "version": 3
   },
   "file_extension": ".py",
   "mimetype": "text/x-python",
   "name": "python",
   "nbconvert_exporter": "python",
   "pygments_lexer": "ipython3",
   "version": "3.10.8"
  }
 },
 "nbformat": 4,
 "nbformat_minor": 2
}
