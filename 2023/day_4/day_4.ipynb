{
 "cells": [
  {
   "cell_type": "code",
   "execution_count": 32,
   "metadata": {},
   "outputs": [],
   "source": [
    "import re"
   ]
  },
  {
   "cell_type": "code",
   "execution_count": 16,
   "metadata": {},
   "outputs": [],
   "source": [
    "def delete_empty_items(list):\n",
    "    return [item for item in list if item != '']"
   ]
  },
  {
   "cell_type": "code",
   "execution_count": 24,
   "metadata": {},
   "outputs": [
    {
     "name": "stdout",
     "output_type": "stream",
     "text": [
      "Result: 23941\n"
     ]
    }
   ],
   "source": [
    "# ---- PART ONE ---- #\n",
    "\n",
    "with open('input_4.txt') as f:\n",
    "    content = f.readlines()\n",
    "content = [x.replace('\\n', '') for x in content]\n",
    "\n",
    "sum = 0\n",
    "for card in content:\n",
    "    card = card.split(': ')[1]\n",
    "    winner, numbers_have = card.split(' | ')\n",
    "\n",
    "    winner = delete_empty_items([w.strip() for w in winner.split(' ')])\n",
    "    numbers_have = delete_empty_items([nh.strip() for nh in numbers_have.split(' ')])\n",
    "\n",
    "    match = [nh for nh in numbers_have if nh in winner]\n",
    "    sum += 2**(len(match) - 1) if len(match) > 0 else 0\n",
    "\n",
    "print('Result:', sum)"
   ]
  },
  {
   "cell_type": "code",
   "execution_count": 71,
   "metadata": {},
   "outputs": [
    {
     "name": "stdout",
     "output_type": "stream",
     "text": [
      "index: 0 i: 1 increment: 1\n",
      "index: 0 i: 2 increment: 1\n",
      "index: 0 i: 3 increment: 1\n",
      "index: 0 i: 4 increment: 1\n",
      "index: 1 i: 1 increment: 2\n",
      "index: 1 i: 2 increment: 2\n",
      "index: 2 i: 1 increment: 4\n",
      "index: 2 i: 2 increment: 4\n",
      "index: 3 i: 1 increment: 8\n",
      "Result: 30\n"
     ]
    }
   ],
   "source": [
    "# ---- PART TWO ---- #\n",
    "\n",
    "with open('input_example.txt') as f:\n",
    "    content = f.readlines()\n",
    "content = [x.replace('\\n', '') for x in content]\n",
    "\n",
    "cards = []\n",
    "for card_item in content:\n",
    "    index_card, num_card = card_item.split(': ')\n",
    "    winner, numbers_have = num_card.split(' | ')\n",
    "\n",
    "    index_card = ''.join(re.findall(r'\\d+', index_card))\n",
    "    winner = delete_empty_items([w.strip() for w in winner.split(' ')])\n",
    "    numbers_have = delete_empty_items([nh.strip() for nh in numbers_have.split(' ')])\n",
    "\n",
    "    count_match = len([nh for nh in numbers_have if nh in winner])\n",
    "\n",
    "    card = {\n",
    "        'num': index_card,\n",
    "        'match': count_match,\n",
    "        'copy': 0\n",
    "    }\n",
    "    cards.append(card)\n",
    "\n",
    "\n",
    "# for index, card in enumerate(cards):\n",
    "#     if card['match'] > 0:\n",
    "#         for j in range(card['copy'] + 1):\n",
    "#             for i in range(card['match']):\n",
    "#                 cards[index+i+1]['copy'] += 1\n",
    "#     card['copy'] += 1\n",
    "\n",
    "\n",
    "for index, card in enumerate(cards):\n",
    "    if card['match'] > 0:\n",
    "        increment = card['copy'] + 1\n",
    "        for i in range(1, card['match'] + 1):\n",
    "            print('index:', index, 'i:', i, 'increment:', increment)\n",
    "            if index + i < len(cards):  # Asegura que no se excedan los límites de la lista\n",
    "                cards[index + i]['copy'] += increment\n",
    "    card['copy'] += 1\n",
    "\n",
    "\n",
    "cards_copy = [card['copy'] for card in cards]\n",
    "\n",
    "sum = 0\n",
    "for card in cards_copy:\n",
    "    sum += card\n",
    "\n",
    "print('Result:', sum)"
   ]
  },
  {
   "cell_type": "code",
   "execution_count": null,
   "metadata": {},
   "outputs": [],
   "source": [
    "[{'num': '1', 'match': 4, 'copy': 0}, # 4 + 0 = 4\n",
    " {'num': '2', 'match': 2, 'copy': 1}, # 2 + 1 = 3\n",
    " {'num': '3', 'match': 2, 'copy': 2}, # 2 + 2 = 4\n",
    " {'num': '4', 'match': 1, 'copy': 2},\n",
    " {'num': '5', 'match': 0, 'copy': 2},\n",
    " {'num': '6', 'match': 0, 'copy': 0}]"
   ]
  }
 ],
 "metadata": {
  "kernelspec": {
   "display_name": "venv",
   "language": "python",
   "name": "python3"
  },
  "language_info": {
   "codemirror_mode": {
    "name": "ipython",
    "version": 3
   },
   "file_extension": ".py",
   "mimetype": "text/x-python",
   "name": "python",
   "nbconvert_exporter": "python",
   "pygments_lexer": "ipython3",
   "version": "3.10.8"
  }
 },
 "nbformat": 4,
 "nbformat_minor": 2
}
