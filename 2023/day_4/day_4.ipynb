{
 "cells": [
  {
   "cell_type": "code",
   "execution_count": 2,
   "metadata": {},
   "outputs": [],
   "source": [
    "import re"
   ]
  },
  {
   "cell_type": "code",
   "execution_count": 3,
   "metadata": {},
   "outputs": [],
   "source": [
    "def delete_empty_items(list):\n",
    "    return [item for item in list if item != '']"
   ]
  },
  {
   "cell_type": "code",
   "execution_count": 4,
   "metadata": {},
   "outputs": [
    {
     "name": "stdout",
     "output_type": "stream",
     "text": [
      "Result: 23941\n"
     ]
    }
   ],
   "source": [
    "# ---- PART ONE ---- #\n",
    "\n",
    "with open('input_4.txt') as f:\n",
    "    content = f.readlines()\n",
    "content = [x.replace('\\n', '') for x in content]\n",
    "\n",
    "sum = 0\n",
    "for card in content:\n",
    "    card = card.split(': ')[1]\n",
    "    winner, numbers_have = card.split(' | ')\n",
    "\n",
    "    winner = delete_empty_items([w.strip() for w in winner.split(' ')])\n",
    "    numbers_have = delete_empty_items([nh.strip() for nh in numbers_have.split(' ')])\n",
    "\n",
    "    match = [nh for nh in numbers_have if nh in winner]\n",
    "    sum += 2**(len(match) - 1) if len(match) > 0 else 0\n",
    "\n",
    "print('Result:', sum)"
   ]
  },
  {
   "cell_type": "code",
   "execution_count": 6,
   "metadata": {},
   "outputs": [
    {
     "name": "stdout",
     "output_type": "stream",
     "text": [
      "Result: 5571760\n"
     ]
    }
   ],
   "source": [
    "# ---- PART TWO ---- #\n",
    "\n",
    "with open('input_4.txt') as f:\n",
    "    content = f.readlines()\n",
    "content = [x.replace('\\n', '') for x in content]\n",
    "\n",
    "cards = []\n",
    "for card_item in content:\n",
    "    index_card, num_card = card_item.split(': ')\n",
    "    winner, numbers_have = num_card.split(' | ')\n",
    "\n",
    "    index_card = ''.join(re.findall(r'\\d+', index_card))\n",
    "    winner = delete_empty_items([w.strip() for w in winner.split(' ')])\n",
    "    numbers_have = delete_empty_items([nh.strip() for nh in numbers_have.split(' ')])\n",
    "\n",
    "    count_match = len([nh for nh in numbers_have if nh in winner])\n",
    "\n",
    "    card = {\n",
    "        'num': index_card,\n",
    "        'match': count_match,\n",
    "        'copy': 0\n",
    "    }\n",
    "    cards.append(card)\n",
    "\n",
    "for index, card in enumerate(cards):\n",
    "    if card['match'] > 0:\n",
    "        increment = card['copy'] + 1\n",
    "        for i in range(1, card['match'] + 1):\n",
    "            if index + i < len(cards):  # Asegura que no se excedan los límites de la lista\n",
    "                cards[index + i]['copy'] += increment\n",
    "    card['copy'] += 1\n",
    "\n",
    "\n",
    "cards_copy = [card['copy'] for card in cards]\n",
    "\n",
    "sum = 0\n",
    "for card in cards_copy:\n",
    "    sum += card\n",
    "\n",
    "print('Result:', sum)"
   ]
  }
 ],
 "metadata": {
  "kernelspec": {
   "display_name": "venv",
   "language": "python",
   "name": "python3"
  },
  "language_info": {
   "codemirror_mode": {
    "name": "ipython",
    "version": 3
   },
   "file_extension": ".py",
   "mimetype": "text/x-python",
   "name": "python",
   "nbconvert_exporter": "python",
   "pygments_lexer": "ipython3",
   "version": "3.10.8"
  }
 },
 "nbformat": 4,
 "nbformat_minor": 2
}
