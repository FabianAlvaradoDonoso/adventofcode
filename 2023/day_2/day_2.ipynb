{
 "cells": [
  {
   "cell_type": "code",
   "execution_count": 7,
   "metadata": {},
   "outputs": [],
   "source": [
    "import re"
   ]
  },
  {
   "cell_type": "code",
   "execution_count": 46,
   "metadata": {},
   "outputs": [
    {
     "name": "stdout",
     "output_type": "stream",
     "text": [
      "2239\n"
     ]
    }
   ],
   "source": [
    "with open('input_2.txt') as f:\n",
    "    content = f.readlines()\n",
    "content = [x.strip() for x in content]\n",
    "\n",
    "def get_number_games(line):\n",
    "    game = re.findall(r'\\d', line)\n",
    "    return int(''.join(game))\n",
    "\n",
    "def split_string_strip(string, separator):\n",
    "    return [s.strip() for s in string.split(separator)]\n",
    "\n",
    "bag = {\n",
    "    'red': 12,\n",
    "    'green': 13,\n",
    "    'blue': 14,\n",
    "}\n",
    "sum_id_games = 0\n",
    "for line in content:\n",
    "    flag = True\n",
    "    [game, set_cubes] = line.split(':')\n",
    "\n",
    "    game = get_number_games(game)\n",
    "    \n",
    "    for set in split_string_strip(set_cubes, ';'):\n",
    "        for cube in split_string_strip(set, ','):\n",
    "            [count, color] = split_string_strip(cube, ' ')\n",
    "            flag = flag and bag[color] >= int(count)\n",
    "    \n",
    "    sum_id_games += game if flag else 0\n",
    "\n",
    "print(sum_id_games)"
   ]
  }
 ],
 "metadata": {
  "kernelspec": {
   "display_name": "venv",
   "language": "python",
   "name": "python3"
  },
  "language_info": {
   "codemirror_mode": {
    "name": "ipython",
    "version": 3
   },
   "file_extension": ".py",
   "mimetype": "text/x-python",
   "name": "python",
   "nbconvert_exporter": "python",
   "pygments_lexer": "ipython3",
   "version": "3.10.8"
  }
 },
 "nbformat": 4,
 "nbformat_minor": 2
}
