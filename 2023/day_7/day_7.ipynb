{
 "cells": [
  {
   "cell_type": "code",
   "execution_count": 1,
   "metadata": {},
   "outputs": [],
   "source": [
    "def get_type_hand(hand):\n",
    "    hand = list(hand)\n",
    "    hand = sorted(hand)\n",
    "    cards = {}\n",
    "\n",
    "    for card in hand:\n",
    "        if card in cards:\n",
    "            cards[card] += 1\n",
    "        else:\n",
    "            cards[card] = 1\n",
    "\n",
    "    cards = {k: v for k, v in sorted(cards.items(), key=lambda item: item[1], reverse=True)}\n",
    "    \n",
    "    if 5 in cards.values():\n",
    "        return 'five of a kind', 7\n",
    "    if 4 in cards.values():\n",
    "        return 'four of a kind', 6\n",
    "    if 3 in cards.values() and 2 in cards.values():\n",
    "        return 'full house', 5\n",
    "    if 3 in cards.values():\n",
    "        return 'three of a kind', 4\n",
    "    if list(cards.values()) == [2, 2, 1]:\n",
    "        return 'two pair', 3\n",
    "    if 2 in cards.values():\n",
    "        return 'one pair', 2\n",
    "    return 'high card', 1"
   ]
  },
  {
   "cell_type": "code",
   "execution_count": 2,
   "metadata": {},
   "outputs": [],
   "source": [
    "def assign_positions(hands):\n",
    "    card_values = \"AKQJT98765432\"\n",
    "\n",
    "    def compare_hands(hand1, hand2):\n",
    "        for card1, card2 in zip(hand1['hand'], hand2['hand']):\n",
    "            if card_values.index(card1) > card_values.index(card2):\n",
    "                return 1\n",
    "            elif card_values.index(card1) < card_values.index(card2):\n",
    "                return -1\n",
    "        return 0\n",
    "\n",
    "    # Ordena las manos de mayor a menor\n",
    "    sorted_hands = sorted(hands, key=lambda hand: [card_values.index(card) for card in hand['hand']], reverse=True)\n",
    "\n",
    "    # Asigna la posición a cada mano\n",
    "    for i, hand in enumerate(sorted_hands, start=1):\n",
    "        hand['position'] = i\n",
    "\n",
    "    return sorted_hands"
   ]
  },
  {
   "cell_type": "code",
   "execution_count": 4,
   "metadata": {},
   "outputs": [
    {
     "name": "stdout",
     "output_type": "stream",
     "text": [
      "Resultado 251927063\n"
     ]
    }
   ],
   "source": [
    "# ---- PART ONE ---- #\n",
    "\n",
    "with open('input_7.txt') as f:\n",
    "    games = f.readlines()\n",
    "games = [x.strip().replace('\\n', '') for x in games]\n",
    "\n",
    "games_list = []\n",
    "for game in games:\n",
    "    hand, bid = game.split(' ')\n",
    "    games_list.append({'hand': hand, 'bid': int(bid)})\n",
    "\n",
    "for game in games_list:\n",
    "    hand, bid = game['hand'], game['bid']\n",
    "    type_hand, level = get_type_hand(hand)\n",
    "    game['type_hand'] = type_hand\n",
    "    game['level'] = level\n",
    "\n",
    "# ordenar games_list por level\n",
    "games_list = sorted(games_list, key=lambda k: k['level'], reverse=True)\n",
    "\n",
    "# obtener todos los tipos de levels que hay en games_list\n",
    "levels = sorted(list(set(game['level'] for game in games_list)), reverse=True)\n",
    "\n",
    "hands_per_level = {\n",
    "    level: assign_positions([game for game in games_list if game['level'] == level]) for level in levels\n",
    "}\n",
    "\n",
    "# ordenar hands_per_level por level ascendente\n",
    "hands_per_level = {k: v for k, v in sorted(hands_per_level.items(), key=lambda item: item[0])}\n",
    "\n",
    "# dejar en una lista todos los hands_per_level ordenados por level ascendente y por position ascendente\n",
    "hands_per_level_list = [hand for hands in hands_per_level.values() for hand in hands]\n",
    "\n",
    "total_winning = 0\n",
    "for index, hand in enumerate(hands_per_level_list):\n",
    "    total_winning += hand['bid'] * (index + 1)\n",
    "\n",
    "print('Resultado', total_winning)\n",
    "    "
   ]
  },
  {
   "cell_type": "markdown",
   "metadata": {},
   "source": [
    "### PART TWO"
   ]
  },
  {
   "cell_type": "code",
   "execution_count": 50,
   "metadata": {},
   "outputs": [],
   "source": [
    "# def update_highest_value(d):\n",
    "#     card_values = \"AKQT98765432J\"\n",
    "\n",
    "#     # Verificar si 'J' está en el diccionario\n",
    "#     if 'J' in d:\n",
    "\n",
    "#         # Encuentra la clave con el valor más alto que no sea 'J', si hay mas de una, se queda con la que tiene el valor más alto segun card_values\n",
    "#         max_key = max([key for key in d.keys() if key != 'J'], key=lambda key: card_values.index(key))\n",
    "\n",
    "#         # Actualiza el valor de la clave con el valor más alto\n",
    "#         d[max_key] += d.get('J', 0)\n",
    "\n",
    "#     return d"
   ]
  },
  {
   "cell_type": "code",
   "execution_count": 66,
   "metadata": {},
   "outputs": [
    {
     "name": "stdout",
     "output_type": "stream",
     "text": [
      "2\n",
      "['5', 'A']\n"
     ]
    }
   ],
   "source": [
    "data = {'J': 3, '5': 2, 'A': 2}\n",
    "\n",
    "# Encuentra el valor más alto excluyendo la clave 'J'\n",
    "max_value = max((v for k, v in data.items() if k != 'J'), default=None)\n",
    "\n",
    "# Encuentra las claves con el valor más alto (que no sean 'J')\n",
    "max_keys = [k for k, v in data.items() if v == max_value and k != 'J']\n",
    "\n",
    "print(max_keys)\n"
   ]
  },
  {
   "cell_type": "code",
   "execution_count": 89,
   "metadata": {},
   "outputs": [
    {
     "data": {
      "text/plain": [
       "{'J': 5}"
      ]
     },
     "execution_count": 89,
     "metadata": {},
     "output_type": "execute_result"
    }
   ],
   "source": [
    "def update_highest_value(d):\n",
    "    card_values = \"AKQT98765432J\"\n",
    "\n",
    "    # Verificar si 'J' está en el diccionario\n",
    "    if 'J' in d:\n",
    "        \n",
    "        # Encuentra el valor más alto excluyendo la clave 'J'\n",
    "        max_value = max((v for k, v in d.items() if k != 'J'), default=None)\n",
    "\n",
    "        # Encuentra las claves con el valor más alto (que no sean 'J')\n",
    "        max_keys = [k for k, v in d.items() if v == max_value and k != 'J']\n",
    "\n",
    "        # Si hay más de una clave, elige la que tiene el valor más alto según card_values\n",
    "        if len(max_keys) > 1:\n",
    "            max_key = sorted(max_keys, key=lambda card: card_values.index(card))[0]\n",
    "        else:\n",
    "            if max_keys == []:\n",
    "                return d\n",
    "            max_key = max_keys[0]\n",
    "            \n",
    "        # Actualiza el valor de la clave con el valor más alto\n",
    "        d[max_key] += d.get('J', 0)\n",
    "\n",
    "    return d\n",
    "\n",
    "update_highest_value({'J': 5})"
   ]
  },
  {
   "cell_type": "code",
   "execution_count": 90,
   "metadata": {},
   "outputs": [
    {
     "data": {
      "text/plain": [
       "('five of a kind', 7)"
      ]
     },
     "execution_count": 90,
     "metadata": {},
     "output_type": "execute_result"
    }
   ],
   "source": [
    "def get_type_hand_comodin(hand):\n",
    "    hand = list(hand)\n",
    "    hand = sorted(hand)\n",
    "    cards = {}\n",
    "\n",
    "    for card in hand:\n",
    "        if card in cards:\n",
    "            cards[card] += 1\n",
    "        else:\n",
    "            cards[card] = 1\n",
    "\n",
    "    cards = {k: v for k, v in sorted(cards.items(), key=lambda item: item[1], reverse=True)}\n",
    "    cards = update_highest_value(cards)\n",
    "    \n",
    "    if 5 in cards.values():\n",
    "        return 'five of a kind', 7\n",
    "    if 4 in cards.values():\n",
    "        return 'four of a kind', 6\n",
    "    if 3 in cards.values() and 2 in cards.values():\n",
    "        return 'full house', 5\n",
    "    if 3 in cards.values():\n",
    "        return 'three of a kind', 4\n",
    "    if list(cards.values()) == [2, 2, 1]:\n",
    "        return 'two pair', 3\n",
    "    if 2 in cards.values():\n",
    "        return 'one pair', 2\n",
    "    return 'high card', 1\n",
    "\n",
    "get_type_hand_comodin('JJJJJ')"
   ]
  },
  {
   "cell_type": "code",
   "execution_count": 85,
   "metadata": {},
   "outputs": [],
   "source": [
    "def assign_positions_two(hands):\n",
    "    card_values = \"AKQT98765432J\"\n",
    "\n",
    "    def compare_hands(hand1, hand2):\n",
    "        for card1, card2 in zip(hand1['hand'], hand2['hand']):\n",
    "            if card_values.index(card1) > card_values.index(card2):\n",
    "                return 1\n",
    "            elif card_values.index(card1) < card_values.index(card2):\n",
    "                return -1\n",
    "        return 0\n",
    "\n",
    "    # Ordena las manos de mayor a menor\n",
    "    sorted_hands = sorted(hands, key=lambda hand: [card_values.index(card) for card in hand['hand']], reverse=True)\n",
    "\n",
    "    # Asigna la posición a cada mano\n",
    "    for i, hand in enumerate(sorted_hands, start=1):\n",
    "        hand['position'] = i\n",
    "\n",
    "    return sorted_hands"
   ]
  },
  {
   "cell_type": "code",
   "execution_count": null,
   "metadata": {},
   "outputs": [],
   "source": [
    "# ---- PART TWO ---- #\n",
    "\n",
    "with open('input_7.txt') as f:\n",
    "    games = f.readlines()\n",
    "games = [x.strip().replace('\\n', '') for x in games]\n",
    "\n",
    "games_list = []\n",
    "for game in games:\n",
    "    hand, bid = game.split(' ')\n",
    "    games_list.append({'hand': hand, 'bid': int(bid)})\n",
    "\n",
    "for game in games_list:\n",
    "    hand, bid = game['hand'], game['bid']\n",
    "    # print(hand)\n",
    "    type_hand, level = get_type_hand_comodin(hand)\n",
    "    game['type_hand'] = type_hand\n",
    "    game['level'] = level\n",
    "\n",
    "display(games_list)\n",
    "\n",
    "# ordenar games_list por level\n",
    "games_list = sorted(games_list, key=lambda k: k['level'], reverse=True)\n",
    "\n",
    "# obtener todos los tipos de levels que hay en games_list\n",
    "levels = sorted(list(set(game['level'] for game in games_list)), reverse=True)\n",
    "\n",
    "hands_per_level = {\n",
    "    level: assign_positions_two([game for game in games_list if game['level'] == level]) for level in levels\n",
    "}\n",
    "\n",
    "# ordenar hands_per_level por level ascendente\n",
    "hands_per_level = {k: v for k, v in sorted(hands_per_level.items(), key=lambda item: item[0])}\n",
    "\n",
    "# dejar en una lista todos los hands_per_level ordenados por level ascendente y por position ascendente\n",
    "hands_per_level_list = [hand for hands in hands_per_level.values() for hand in hands]\n",
    "\n",
    "total_winning = 0\n",
    "for index, hand in enumerate(hands_per_level_list):\n",
    "    total_winning += hand['bid'] * (index + 1)\n",
    "\n",
    "print('Resultado', total_winning) # 255221214"
   ]
  },
  {
   "cell_type": "code",
   "execution_count": 94,
   "metadata": {},
   "outputs": [
    {
     "name": "stdout",
     "output_type": "stream",
     "text": [
      "255632664\n"
     ]
    }
   ],
   "source": [
    "dta = []\n",
    "with open(\"input_7.txt\", \"r\") as data:\n",
    "    for linein in data:\n",
    "        game_split_1 = linein.split(' ')\n",
    "        dta.append((game_split_1[0],int(game_split_1[1])))\n",
    "\n",
    "def mapper(itm):\n",
    "    pair, two_pair, three_kind, four_kind, five_kind = False, False, False, False, False\n",
    "\n",
    "    # First remove jokers, to decide hand without jokers.\n",
    "    no_jokers = itm.replace(\"J\",\"\")\n",
    "    for c in \"AKQT98765432\":\n",
    "        cnt = no_jokers.count(c)\n",
    "        if cnt == 2: pair, two_pair = (False,True) if pair else (True,False)\n",
    "        if cnt == 3: three_kind = True\n",
    "        if cnt == 4: four_kind = True\n",
    "        if cnt == 5: five_kind = True\n",
    "\n",
    "    # Then add back jokers, enhancing the hand as they are added back\n",
    "    for i in range(itm.count(\"J\")):\n",
    "        if  four_kind:   five_kind, four_kind = True, False\n",
    "        elif three_kind: four_kind, three_kind = True, False\n",
    "        elif two_pair:   pair, two_pair, three_kind = True, False, True\n",
    "        elif pair:       pair, three_kind = False, True\n",
    "        else:            pair = True\n",
    "\n",
    "    # Prefix the item, with a letter indicating type of hand, which is sorted first.\n",
    "    if five_kind: key = \"Z\" +itm                     # five of kind\n",
    "    elif four_kind: key = \"Y\" +itm                   # four of kind\n",
    "    elif three_kind and pair:  key = \"X\" +itm        # full house\n",
    "    elif three_kind : key = \"W\" +itm                 # three of kind\n",
    "    elif two_pair : key = \"V\" +itm                   # two pair\n",
    "    elif pair : key = \"U\"+itm                        # one pair\n",
    "    else: key = \"T\"+itm                              # high card\n",
    "\n",
    "    # replace chars AKQJT, with FED1B, to ensure rest of hand is sorted correctly\n",
    "    key = key.replace(\"A\", \"F\") \\\n",
    "        .replace(\"K\", \"E\") \\\n",
    "        .replace(\"Q\", \"D\") \\\n",
    "        .replace(\"J\", \"1\") \\\n",
    "        .replace(\"T\", \"B\")\n",
    "\n",
    "    return key\n",
    "\n",
    "\n",
    "dta.sort(key=lambda itm: mapper(itm[0]))\n",
    "\n",
    "i = 0\n",
    "total = 0\n",
    "for itm in dta:\n",
    "    i += 1\n",
    "    total += itm[1] * i\n",
    "\n",
    "print(total)"
   ]
  }
 ],
 "metadata": {
  "kernelspec": {
   "display_name": "venv",
   "language": "python",
   "name": "python3"
  },
  "language_info": {
   "codemirror_mode": {
    "name": "ipython",
    "version": 3
   },
   "file_extension": ".py",
   "mimetype": "text/x-python",
   "name": "python",
   "nbconvert_exporter": "python",
   "pygments_lexer": "ipython3",
   "version": "3.10.8"
  }
 },
 "nbformat": 4,
 "nbformat_minor": 2
}
