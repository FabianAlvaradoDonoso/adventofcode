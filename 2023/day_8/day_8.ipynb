{
 "cells": [
  {
   "cell_type": "code",
   "execution_count": 16,
   "metadata": {},
   "outputs": [],
   "source": [
    "def convert_data(data):\n",
    "    result_dict = {}\n",
    "    for line in data:\n",
    "        parts = line.split(' = ')\n",
    "        key = parts[0]\n",
    "        values_str = parts[1].strip('()')\n",
    "        values_list = [v.strip() for v in values_str.split(',')]\n",
    "        result_dict[key] = values_list\n",
    "    return result_dict"
   ]
  },
  {
   "cell_type": "code",
   "execution_count": 35,
   "metadata": {},
   "outputs": [
    {
     "name": "stdout",
     "output_type": "stream",
     "text": [
      "12361\n"
     ]
    }
   ],
   "source": [
    "# ---- PART ONE ---- #\n",
    "\n",
    "with open('input_8.txt') as f:\n",
    "    text = f.readlines()\n",
    "text = [x.strip().replace('\\n', '') for x in text]\n",
    "\n",
    "secuencia = text[0]\n",
    "nodos = text[2:]\n",
    "\n",
    "nodos = convert_data(nodos)\n",
    "\n",
    "primero = 'AAA'\n",
    "ultimo = 'ZZZ'\n",
    "\n",
    "step = 0\n",
    "contador = 0\n",
    "while step < len(secuencia):\n",
    "    contador += 1\n",
    "    left, right = nodos[primero]\n",
    "\n",
    "    if secuencia[step] == 'R':\n",
    "        primero = right\n",
    "    else:\n",
    "        primero = left\n",
    "\n",
    "    if primero == ultimo:\n",
    "        break\n",
    "\n",
    "    step += 1\n",
    "    if step == len(secuencia):\n",
    "        step = 0\n",
    "\n",
    "print(contador)\n",
    "       "
   ]
  },
  {
   "cell_type": "code",
   "execution_count": 43,
   "metadata": {},
   "outputs": [
    {
     "name": "stdout",
     "output_type": "stream",
     "text": [
      "12361\n"
     ]
    }
   ],
   "source": [
    "# ---- PART TWO ---- #\n",
    "\n",
    "with open('input_8.txt') as f:\n",
    "    text = f.readlines()\n",
    "text = [x.strip().replace('\\n', '') for x in text]\n",
    "\n",
    "secuencia = text[0]\n",
    "nodos = text[2:]\n",
    "\n",
    "nodos = convert_data(nodos)\n",
    "\n",
    "primero = 'AAA'\n",
    "ultimo = 'ZZZ'\n",
    "\n",
    "# obtener todos los nodos que terminen con A\n",
    "nodos_a = []\n",
    "for key, values in nodos.items():\n",
    "    if key.endswith('A'):\n",
    "        nodos_a.append(key)\n",
    "\n",
    "# obtener todos los nodos que terminen con Z\n",
    "nodos_z = []\n",
    "for key, values in nodos.items():\n",
    "    if key.endswith('Z'):\n",
    "        nodos_z.append(key)\n",
    "\n",
    "contadores = []\n",
    "for nodo_a in nodos_a:\n",
    "    step = 0\n",
    "    contador = 0\n",
    "    while step < len(secuencia):\n",
    "        contador += 1\n",
    "        left, right = nodos[primero]\n",
    "\n",
    "        if secuencia[step] == 'R':\n",
    "            primero = right\n",
    "        else:\n",
    "            primero = left\n",
    "\n",
    "        if primero == ultimo:\n",
    "            break\n",
    "\n",
    "        step += 1\n",
    "        if step == len(secuencia):\n",
    "            step = 0\n",
    "\n",
    "    contadores.append(contador)\n",
    "\n",
    "print(max(contadores)) \n",
    "# 💩\n",
    "       "
   ]
  }
 ],
 "metadata": {
  "kernelspec": {
   "display_name": "venv",
   "language": "python",
   "name": "python3"
  },
  "language_info": {
   "codemirror_mode": {
    "name": "ipython",
    "version": 3
   },
   "file_extension": ".py",
   "mimetype": "text/x-python",
   "name": "python",
   "nbconvert_exporter": "python",
   "pygments_lexer": "ipython3",
   "version": "3.10.8"
  }
 },
 "nbformat": 4,
 "nbformat_minor": 2
}
