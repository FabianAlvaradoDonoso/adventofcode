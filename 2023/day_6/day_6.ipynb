{
 "cells": [
  {
   "cell_type": "code",
   "execution_count": 24,
   "metadata": {},
   "outputs": [],
   "source": [
    "import re"
   ]
  },
  {
   "cell_type": "code",
   "execution_count": 21,
   "metadata": {},
   "outputs": [
    {
     "name": "stdout",
     "output_type": "stream",
     "text": [
      "Result: 303600\n"
     ]
    }
   ],
   "source": [
    "# ---- PART ONE ---- #\n",
    "\n",
    "with open('input_6.txt') as f:\n",
    "    content = f.readlines()\n",
    "\n",
    "content = [x.replace('\\n', '') for x in content if x != '\\n']\n",
    "\n",
    "times = [int(time.strip()) for time in content[0].split(' ') if time.isdigit()]\n",
    "distances = [int(distance.strip()) for distance in content[1].split(' ') if distance.isdigit()]\n",
    "\n",
    "multiplier = 1\n",
    "for index, time in enumerate(times):\n",
    "    distance = distances[index]\n",
    "\n",
    "    ways_to_win = 0\n",
    "    for x in range(0, time):\n",
    "        if x * (time - x) > distance:\n",
    "            ways_to_win += 1\n",
    "    \n",
    "    multiplier *= ways_to_win\n",
    "\n",
    "print('Result:', multiplier)\n",
    "\n"
   ]
  },
  {
   "cell_type": "code",
   "execution_count": 34,
   "metadata": {},
   "outputs": [
    {
     "name": "stdout",
     "output_type": "stream",
     "text": [
      "Result: 23654842\n"
     ]
    }
   ],
   "source": [
    "# ---- PART TWO ---- #\n",
    "\n",
    "with open('input_6.txt') as f:\n",
    "    content = f.readlines()\n",
    "\n",
    "content = [x.replace('\\n', '') for x in content if x != '\\n']\n",
    "\n",
    "times = [int(''.join(re.findall(r'\\d', content[0])))]\n",
    "distances = [int(''.join(re.findall(r'\\d', content[1])))]\n",
    "\n",
    "multiplier = 1\n",
    "for index, time in enumerate(times):\n",
    "    distance = distances[index]\n",
    "\n",
    "    ways_to_win = 0\n",
    "    for x in range(0, time):\n",
    "        if x * (time - x) > distance:\n",
    "            ways_to_win += 1\n",
    "    \n",
    "    multiplier *= ways_to_win\n",
    "\n",
    "print('Result:', multiplier)\n",
    "\n"
   ]
  }
 ],
 "metadata": {
  "kernelspec": {
   "display_name": "venv",
   "language": "python",
   "name": "python3"
  },
  "language_info": {
   "codemirror_mode": {
    "name": "ipython",
    "version": 3
   },
   "file_extension": ".py",
   "mimetype": "text/x-python",
   "name": "python",
   "nbconvert_exporter": "python",
   "pygments_lexer": "ipython3",
   "version": "3.10.8"
  }
 },
 "nbformat": 4,
 "nbformat_minor": 2
}
