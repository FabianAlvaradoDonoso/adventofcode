{
 "cells": [
  {
   "cell_type": "code",
   "execution_count": 61,
   "metadata": {},
   "outputs": [],
   "source": [
    "import math\n",
    "import numpy as np"
   ]
  },
  {
   "cell_type": "code",
   "execution_count": 62,
   "metadata": {},
   "outputs": [],
   "source": [
    "def ordenar_info(info):\n",
    "    maps_dict = {}\n",
    "    current_map = []\n",
    "    current_map_key = None\n",
    "\n",
    "    for line in content:\n",
    "        if \"map\" in line:\n",
    "            if current_map_key and current_map:\n",
    "                maps_dict[current_map_key] = current_map\n",
    "                current_map = []\n",
    "            current_map_key = line.strip(':')\n",
    "        elif \"seeds\" in line:\n",
    "            seeds_line = line.split(':')\n",
    "            if len(seeds_line) == 2:\n",
    "                seeds_key = seeds_line[0].strip()\n",
    "                seeds_values = list(map(int, seeds_line[1].split()))\n",
    "                maps_dict[seeds_key] = seeds_values\n",
    "        elif current_map_key:\n",
    "            current_map.append(list(map(int, line.split())))\n",
    "\n",
    "    # Asegurarse de agregar el último map\n",
    "    if current_map_key and current_map:\n",
    "        maps_dict[current_map_key] = current_map\n",
    "\n",
    "    return maps_dict"
   ]
  },
  {
   "cell_type": "code",
   "execution_count": 68,
   "metadata": {},
   "outputs": [],
   "source": [
    "def get_next_step(info_map, step_origen, print_debug=False):\n",
    "    step_destino = None\n",
    "    for info in info_map:\n",
    "        destino, origen, rango = info\n",
    "        rango_origen = [ 0, 0 + rango ]\n",
    "        rango_destino = [ 0, 0 + rango ]\n",
    "\n",
    "        if step_origen >= rango_origen[0] + origen and step_origen < rango_origen[1] + origen:\n",
    "            delta_index = step_origen - origen\n",
    "            step_destino = delta_index + destino\n",
    "    if not step_destino:\n",
    "        step_destino = step_origen\n",
    "\n",
    "    return step_destino"
   ]
  },
  {
   "cell_type": "code",
   "execution_count": 87,
   "metadata": {},
   "outputs": [
    {
     "name": "stdout",
     "output_type": "stream",
     "text": [
      "Result: 240320250\n"
     ]
    }
   ],
   "source": [
    "# ---- PART ONE ---- #\n",
    "\n",
    "with open('input_5.txt') as f:\n",
    "    content = f.readlines()\n",
    "content = [x.replace('\\n', '') for x in content if x != '\\n']\n",
    "\n",
    "info = ordenar_info(content)\n",
    "\n",
    "seeds = info['seeds']\n",
    "locations = math.inf\n",
    "\n",
    "for seed in seeds:\n",
    "    step = seed\n",
    "    for mapping in info.keys():\n",
    "        if 'map' in mapping:\n",
    "            step = get_next_step(info[mapping], step)\n",
    "    locations = min(locations, step)\n",
    "\n",
    "print('Result:', locations)\n",
    "\n"
   ]
  },
  {
   "cell_type": "code",
   "execution_count": 71,
   "metadata": {},
   "outputs": [
    {
     "ename": "TypeError",
     "evalue": "'int' object is not callable",
     "output_type": "error",
     "traceback": [
      "\u001b[0;31m---------------------------------------------------------------------------\u001b[0m",
      "\u001b[0;31mTypeError\u001b[0m                                 Traceback (most recent call last)",
      "\u001b[1;32m/Users/fabian/Dev/adventofcode/2023/day_5/day_5.ipynb Celda 7\u001b[0m line \u001b[0;36m1\n\u001b[1;32m     <a href='vscode-notebook-cell:/Users/fabian/Dev/adventofcode/2023/day_5/day_5.ipynb#W4sZmlsZQ%3D%3D?line=16'>17</a>\u001b[0m true_seeds \u001b[39m=\u001b[39m []\n\u001b[1;32m     <a href='vscode-notebook-cell:/Users/fabian/Dev/adventofcode/2023/day_5/day_5.ipynb#W4sZmlsZQ%3D%3D?line=17'>18</a>\u001b[0m \u001b[39mfor\u001b[39;00m seed \u001b[39min\u001b[39;00m seeds:\n\u001b[0;32m---> <a href='vscode-notebook-cell:/Users/fabian/Dev/adventofcode/2023/day_5/day_5.ipynb#W4sZmlsZQ%3D%3D?line=18'>19</a>\u001b[0m     result_array \u001b[39m=\u001b[39m [value \u001b[39mfor\u001b[39;00m value \u001b[39min\u001b[39;00m \u001b[39mrange\u001b[39;49m(seed[\u001b[39m0\u001b[39;49m], seed[\u001b[39m0\u001b[39;49m] \u001b[39m+\u001b[39;49m seed[\u001b[39m1\u001b[39;49m])]\n\u001b[1;32m     <a href='vscode-notebook-cell:/Users/fabian/Dev/adventofcode/2023/day_5/day_5.ipynb#W4sZmlsZQ%3D%3D?line=19'>20</a>\u001b[0m     true_seeds\u001b[39m.\u001b[39mextend(result_array)\n\u001b[1;32m     <a href='vscode-notebook-cell:/Users/fabian/Dev/adventofcode/2023/day_5/day_5.ipynb#W4sZmlsZQ%3D%3D?line=21'>22</a>\u001b[0m \u001b[39mprint\u001b[39m(\u001b[39mlen\u001b[39m(true_seeds))\n",
      "\u001b[0;31mTypeError\u001b[0m: 'int' object is not callable"
     ]
    }
   ],
   "source": [
    "# ---- PART TWO ---- #\n",
    "\n",
    "with open('input_example.txt') as f:\n",
    "    content = f.readlines()\n",
    "content = [x.replace('\\n', '') for x in content if x != '\\n']\n",
    "\n",
    "info = ordenar_info(content)\n",
    "\n",
    "rango = None\n",
    "seeds = []\n",
    "for index, seed in enumerate(info['seeds']):\n",
    "    if index % 2 == 0:\n",
    "        rango = seed\n",
    "    else:\n",
    "        seeds.append([rango, seed]) \n",
    "\n",
    "true_seeds = []\n",
    "for seed in seeds:\n",
    "    result_array = [value for value in range(seed[0], seed[0] + seed[1])]\n",
    "    true_seeds.extend(result_array)\n",
    "\n",
    "print(len(true_seeds))\n",
    "info['seeds'] = true_seeds\n",
    "\n",
    "# 1394379071 in 1m 49.6s"
   ]
  },
  {
   "cell_type": "code",
   "execution_count": 34,
   "metadata": {},
   "outputs": [],
   "source": [
    "locations = math.inf\n",
    "total_seeds = len(info['seeds'])\n",
    "for seed in info['seeds']:\n",
    "\n",
    "    soil = get_next_step(info['seed-to-soil map'], seed)\n",
    "    fertilizer = get_next_step(info['soil-to-fertilizer map'], soil)\n",
    "    water = get_next_step(info['fertilizer-to-water map'], fertilizer)\n",
    "    light = get_next_step(info['water-to-light map'], water)\n",
    "    temperature = get_next_step(info['light-to-temperature map'], light)\n",
    "    humidity = get_next_step(info['temperature-to-humidity map'], temperature)\n",
    "    location = get_next_step(info['humidity-to-location map'], humidity)\n",
    "    locations = min(locations, location)\n",
    "\n",
    "    # Imprimir progreso cada 0.1%\n",
    "    if (index + 1) % max(1, total_seeds // 1000) == 0:\n",
    "        print(f\"Progress: {((index + 1) / total_seeds) * 100:.1f}%\")\n",
    "    \n",
    "print('Result:', locations)"
   ]
  },
  {
   "cell_type": "code",
   "execution_count": 85,
   "metadata": {},
   "outputs": [
    {
     "name": "stdout",
     "output_type": "stream",
     "text": [
      "Result: 240320250\n"
     ]
    }
   ],
   "source": [
    "info = ordenar_info(content)\n",
    "seeds = info['seeds']\n",
    "locations = math.inf\n",
    "\n",
    "for seed in seeds:\n",
    "    step = seed\n",
    "    for mapping in info.keys():\n",
    "        if 'map' in mapping:\n",
    "            step = get_next_step(info[mapping], step)\n",
    "    locations = min(locations, step)\n",
    "\n",
    "print('Result:', locations)\n",
    "\n"
   ]
  },
  {
   "cell_type": "markdown",
   "metadata": {},
   "source": [
    "## ROBADO 💩"
   ]
  },
  {
   "cell_type": "code",
   "execution_count": 27,
   "metadata": {},
   "outputs": [
    {
     "name": "stdout",
     "output_type": "stream",
     "text": [
      "Step origen: 13, Step destino: 13\n",
      "Resultado: 13\n"
     ]
    }
   ],
   "source": [
    "import numpy as np\n",
    "\n",
    "def get_next_step(info_map, step_origen, print_debug=False):\n",
    "    info_map = np.array(info_map)\n",
    "    \n",
    "    destino = info_map[:, 0]\n",
    "    origen = info_map[:, 1]\n",
    "    rango = info_map[:, 2]\n",
    "    \n",
    "    rango_origen = origen + rango\n",
    "    \n",
    "    # Encuentra el índice del rango en el que se encuentra step_origen\n",
    "    index_rango = np.where((step_origen >= origen) & (step_origen < rango_origen))[0]\n",
    "    \n",
    "    if len(index_rango) == 1:\n",
    "        index_rango = index_rango[0]\n",
    "        \n",
    "        # Encuentra el valor en el rango destino usando la posición de step_origen en el rango origen\n",
    "        posicion_en_rango = step_origen - origen[index_rango]\n",
    "        step_destino = destino[index_rango] + posicion_en_rango\n",
    "        \n",
    "        if print_debug:\n",
    "            print(f\"Step origen: {step_origen}, Step destino: {step_destino}\")\n",
    "        \n",
    "        return int(step_destino)\n",
    "    else:\n",
    "        # Si step_origen no está en ningún rango, devuelve step_origen sin cambios\n",
    "        if print_debug:\n",
    "            print(f\"Step origen: {step_origen}, Step destino: {step_origen}\")\n",
    "        \n",
    "        return int(step_origen)\n",
    "\n",
    "# Ejemplo de uso\n",
    "info_map_ejemplo = np.array([[50, 98, 2], [52, 50, 48]])\n",
    "step_origen_ejemplo = 13\n",
    "\n",
    "result = get_next_step(info_map_ejemplo, step_origen_ejemplo, print_debug=True)\n",
    "print(f\"Resultado: {result}\")\n"
   ]
  },
  {
   "cell_type": "code",
   "execution_count": 33,
   "metadata": {},
   "outputs": [
    {
     "name": "stdout",
     "output_type": "stream",
     "text": [
      "20\n",
      "28580589\n"
     ]
    }
   ],
   "source": [
    "import sys\n",
    "from collections import defaultdict\n",
    "\n",
    "with open('input_5.txt') as f:\n",
    "    lines = [line.strip() for line in f.readlines()]\n",
    "\n",
    "seeds_line = lines[0]\n",
    "print(seeds_line)\n",
    "seeds = [int(x) for x in seeds_line.split(':')[1].split(' ') if x]\n",
    "\n",
    "mappings = []\n",
    "\n",
    "new_mapping = False\n",
    "mapping = None\n",
    "for line in lines[1:]:\n",
    "    if not line:\n",
    "        new_mapping = True\n",
    "    elif new_mapping:\n",
    "        new_mapping = False\n",
    "        mappings.append([])\n",
    "    else:\n",
    "        [dest, source, range] = [int(x) for x in line.split(' ')]\n",
    "        mappings[-1].append((source, dest, range))\n",
    "\n",
    "for mapping in mappings:\n",
    "    mapping.sort()\n",
    "\n",
    "\n",
    "seed_start = None\n",
    "ranges = []\n",
    "for i, seed_number in enumerate(seeds):\n",
    "    if i % 2 == 0:\n",
    "        seed_start = seed_number\n",
    "    else:\n",
    "        ranges.append((seed_start, seed_start + seed_number - 1))\n",
    "\n",
    "\n",
    "ranges.sort()\n",
    "print(len(seeds))\n",
    "\n",
    "for iteration, mapping in enumerate(mappings):\n",
    "    i = 0\n",
    "    j = 0\n",
    "    new_ranges = []\n",
    "\n",
    "    range = None\n",
    "    while ranges or range:\n",
    "        if not range:\n",
    "            range = ranges.pop(0)\n",
    "\n",
    "        range_start = range[0]\n",
    "        range_end = range[1]\n",
    "\n",
    "        if j >= len(mapping):\n",
    "            new_ranges.append((range_start, range_end))\n",
    "            range = None\n",
    "            i += 1\n",
    "            continue\n",
    "\n",
    "        mapping_start = mapping[j][0]\n",
    "        mapping_end = mapping[j][0] + mapping[j][2] - 1\n",
    "\n",
    "        mapping_shift = mapping[j][1] - mapping[j][0]\n",
    "\n",
    "        if range_start < mapping_start and range_end < mapping_start:\n",
    "            new_ranges.append((range_start, range_end))\n",
    "            range = None\n",
    "            i += 1\n",
    "        elif range_start >= mapping_start and range_end <= mapping_end:\n",
    "            new_ranges.append((range_start + mapping_shift, range_end + mapping_shift))\n",
    "            range = None\n",
    "            i += 1\n",
    "        elif range_start <= mapping_start and range_end <= mapping_end:\n",
    "            if range_start < mapping_start:\n",
    "                new_ranges.append((range_start, mapping_start - 1))\n",
    "            new_ranges.append((mapping_start + mapping_shift, range_end + mapping_shift))\n",
    "            range = None\n",
    "            i += 1\n",
    "        elif range_start <= mapping_start and range_end >= mapping_end:\n",
    "            if range_start < mapping_start:\n",
    "                new_ranges.append((range_start, mapping_start - 1))\n",
    "            new_ranges.append((mapping_start + mapping_shift, mapping_end + mapping_shift))\n",
    "            if range_end > mapping_end:\n",
    "                ranges = [(mapping_end + 1, range_end)] + ranges\n",
    "            range = None\n",
    "        elif range_start <= mapping_end and range_end > mapping_end:\n",
    "            new_ranges.append((range_start + mapping_shift, mapping_end + mapping_shift))\n",
    "            ranges = [(mapping_end + 1, range_end)] + ranges\n",
    "            range = None\n",
    "        else:\n",
    "            j += 1\n",
    "\n",
    "    ranges = new_ranges\n",
    "    ranges.sort()\n",
    "\n",
    "print(min(ranges)[0])"
   ]
  },
  {
   "cell_type": "code",
   "execution_count": 51,
   "metadata": {},
   "outputs": [
    {
     "data": {
      "text/plain": [
       "[[1], [1], [2], [2], [2], [4], [1]]"
      ]
     },
     "execution_count": 51,
     "metadata": {},
     "output_type": "execute_result"
    }
   ],
   "source": [
    "# algo = []\n",
    "algo.append([])\n",
    "algo[-1].append(1)\n",
    "\n",
    "for mapping in algo:\n",
    "    mapping.sort()\n",
    "\n",
    "algo"
   ]
  },
  {
   "cell_type": "code",
   "execution_count": 54,
   "metadata": {},
   "outputs": [
    {
     "name": "stdout",
     "output_type": "stream",
     "text": [
      "seeds: 3429320627 235304036 1147330745 114559245 1684000747 468955901 677937579 96599505 1436970021 26560102 3886049334 159534901 936845926 25265009 3247146679 95841652 3696363517 45808572 2319065313 125950148\n",
      "20\n"
     ]
    }
   ],
   "source": [
    "import sys\n",
    "from collections import defaultdict\n",
    "\n",
    "with open('input_5.txt') as f:\n",
    "    lines = [line.strip() for line in f.readlines()]\n",
    "\n",
    "seeds_line = lines[0]\n",
    "print(seeds_line)\n",
    "seeds = [int(x) for x in seeds_line.split(':')[1].split(' ') if x]\n",
    "\n",
    "mappings = []\n",
    "\n",
    "new_mapping = False\n",
    "mapping = None\n",
    "for line in lines[1:]:\n",
    "    if not line:\n",
    "        new_mapping = True\n",
    "    elif new_mapping:\n",
    "        new_mapping = False\n",
    "        mappings.append([])\n",
    "    else:\n",
    "        [dest, source, range] = [int(x) for x in line.split(' ')]\n",
    "        mappings[-1].append((source, dest, range))\n",
    "\n",
    "for mapping in mappings:\n",
    "    mapping.sort()\n",
    "\n",
    "\n",
    "seed_start = None\n",
    "ranges = []\n",
    "for i, seed_number in enumerate(seeds):\n",
    "    if i % 2 == 0:\n",
    "        seed_start = seed_number\n",
    "    else:\n",
    "        ranges.append((seed_start, seed_start + seed_number - 1))\n",
    "\n",
    "\n",
    "ranges.sort()\n",
    "print(len(seeds))"
   ]
  }
 ],
 "metadata": {
  "kernelspec": {
   "display_name": "venv",
   "language": "python",
   "name": "python3"
  },
  "language_info": {
   "codemirror_mode": {
    "name": "ipython",
    "version": 3
   },
   "file_extension": ".py",
   "mimetype": "text/x-python",
   "name": "python",
   "nbconvert_exporter": "python",
   "pygments_lexer": "ipython3",
   "version": "3.10.8"
  }
 },
 "nbformat": 4,
 "nbformat_minor": 2
}
