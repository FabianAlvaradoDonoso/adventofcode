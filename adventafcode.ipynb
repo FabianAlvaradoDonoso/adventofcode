{
 "cells": [
  {
   "cell_type": "code",
   "execution_count": 5,
   "metadata": {},
   "outputs": [],
   "source": [
    "import re"
   ]
  },
  {
   "cell_type": "markdown",
   "metadata": {},
   "source": [
    "### 1"
   ]
  },
  {
   "cell_type": "code",
   "execution_count": 13,
   "metadata": {},
   "outputs": [
    {
     "name": "stdout",
     "output_type": "stream",
     "text": [
      "55834\n"
     ]
    }
   ],
   "source": [
    "with open('input.txt') as f:\n",
    "    content = f.readlines()\n",
    "content = [x.strip() for x in content]\n",
    "\n",
    "suma = 0\n",
    "for text in content:\n",
    "    # encontrar todos los numeros en el texto\n",
    "    numbers = re.findall(r'\\d+', text)\n",
    "    # unir los numeros en un solo string\n",
    "    numbers = ''.join(numbers)\n",
    "    first = numbers[0]\n",
    "    last = numbers[-1]\n",
    "    numero = ''.join([first, last])\n",
    "    numero = int(numero)\n",
    "    suma += numero\n",
    "\n",
    "print(suma)\n",
    "\n"
   ]
  },
  {
   "cell_type": "markdown",
   "metadata": {},
   "source": [
    "### 2"
   ]
  },
  {
   "cell_type": "code",
   "execution_count": 119,
   "metadata": {},
   "outputs": [
    {
     "data": {
      "text/plain": [
       "[('eight', 1, 6), ('three', 8, 13), ('nine', 13, 17), ('six', 17, 20)]"
      ]
     },
     "execution_count": 119,
     "metadata": {},
     "output_type": "execute_result"
    }
   ],
   "source": [
    "with open('input.txt') as f:\n",
    "    content = f.readlines()\n",
    "content = [x.strip() for x in content]\n",
    "\n",
    "numbers = {\n",
    "    'one': '1',\n",
    "    'two': '2',\n",
    "    'three': '3',\n",
    "    'four': '4',\n",
    "    'five': '5',\n",
    "    'six': '6',\n",
    "    'seven': '7',\n",
    "    'eight': '8',\n",
    "    'nine': '9',\n",
    "}\n",
    "\n",
    "# reemplazar numeros en string por numeros en int\n",
    "def transform(text):\n",
    "    number_text = '_'*len(text)\n",
    "\n",
    "    for key, value in numbers.items():\n",
    "        encontro = text.replace(key, value)\n",
    "        encontro = re.sub(r'[a-z]', '_', encontro)\n",
    "\n",
    "        for i in range(len(encontro)):\n",
    "            if encontro[i] != '_':\n",
    "                number_text = number_text[:i] + encontro[i] + number_text[i+1:]\n",
    "\n",
    "    return number_text\n",
    "\n",
    "# transform('eightwothree')\n",
    "\n",
    "\n",
    "# # transformar cada linea del archivo de entrada con la funcion transform\n",
    "# content = [transform(x) for x in content]\n",
    "# suma = 0\n",
    "# for text in content:\n",
    "#     # encontrar todos los numeros en el texto\n",
    "#     numbers = re.findall(r'\\d+', text)\n",
    "#     # unir los numeros en un solo string\n",
    "#     numbers = ''.join(numbers)\n",
    "#     first = numbers[0]\n",
    "#     last = numbers[-1]\n",
    "#     numero = ''.join([first, last])\n",
    "#     numero = int(numero)\n",
    "#     suma += numero\n",
    "# suma\n",
    "\n",
    "# build a dictionary of all matches and their indexes, mapping written-out digits to numeric digits\n",
    "# take the matches with the lowest and highest index\n",
    "\n",
    "text = 'leightwothreeninesixtsljvdl1nflg249'\n",
    "matches = re.finditer(r'(one|two|three|four|five|six|seven|eight|nine)', text)\n",
    "matches = [match for match in matches]\n",
    "matches = [(match.group(), match.start(), match.end()) for match in matches]\n",
    "# matches = sorted(matches, key=lambda x: x[1])\n",
    "# matches = [match[0] for match in matches]\n",
    "# matches = [numbers[match] for match in matches]\n",
    "# matches = ''.join(matches)\n",
    "# matches = int(matches)\n",
    "matches\n"
   ]
  }
 ],
 "metadata": {
  "kernelspec": {
   "display_name": "venv",
   "language": "python",
   "name": "python3"
  },
  "language_info": {
   "codemirror_mode": {
    "name": "ipython",
    "version": 3
   },
   "file_extension": ".py",
   "mimetype": "text/x-python",
   "name": "python",
   "nbconvert_exporter": "python",
   "pygments_lexer": "ipython3",
   "version": "3.10.11"
  }
 },
 "nbformat": 4,
 "nbformat_minor": 2
}
